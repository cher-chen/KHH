{
 "cells": [
  {
   "cell_type": "code",
   "execution_count": 25,
   "metadata": {},
   "outputs": [
    {
     "ename": "ModuleNotFoundError",
     "evalue": "No module named 'apiclient'",
     "output_type": "error",
     "traceback": [
      "\u001b[0;31m---------------------------------------------------------------------------\u001b[0m",
      "\u001b[0;31mModuleNotFoundError\u001b[0m                       Traceback (most recent call last)",
      "\u001b[0;32m<ipython-input-25-3d2686d4d408>\u001b[0m in \u001b[0;36m<module>\u001b[0;34m()\u001b[0m\n\u001b[0;32m----> 1\u001b[0;31m \u001b[0;32mfrom\u001b[0m \u001b[0mapiclient\u001b[0m\u001b[0;34m.\u001b[0m\u001b[0mdiscovery\u001b[0m \u001b[0;32mimport\u001b[0m \u001b[0mbuild\u001b[0m\u001b[0;34m\u001b[0m\u001b[0m\n\u001b[0m\u001b[1;32m      2\u001b[0m \u001b[0;32mfrom\u001b[0m \u001b[0mapiclient\u001b[0m\u001b[0;34m.\u001b[0m\u001b[0merrors\u001b[0m \u001b[0;32mimport\u001b[0m \u001b[0mHttpError\u001b[0m\u001b[0;34m\u001b[0m\u001b[0m\n\u001b[1;32m      3\u001b[0m \u001b[0;32mfrom\u001b[0m \u001b[0moauth2client\u001b[0m\u001b[0;34m.\u001b[0m\u001b[0mtools\u001b[0m \u001b[0;32mimport\u001b[0m \u001b[0margparser\u001b[0m\u001b[0;34m\u001b[0m\u001b[0m\n\u001b[1;32m      4\u001b[0m \u001b[0;32mimport\u001b[0m \u001b[0mpandas\u001b[0m \u001b[0;32mas\u001b[0m \u001b[0mpd\u001b[0m\u001b[0;34m\u001b[0m\u001b[0m\n\u001b[1;32m      5\u001b[0m \u001b[0;32mimport\u001b[0m \u001b[0mpprint\u001b[0m\u001b[0;34m\u001b[0m\u001b[0m\n",
      "\u001b[0;31mModuleNotFoundError\u001b[0m: No module named 'apiclient'"
     ]
    }
   ],
   "source": [
    "from apiclient.discovery import build\n",
    "from apiclient.errors import HttpError\n",
    "from oauth2client.tools import argparser\n",
    "import pandas as pd\n",
    "import pprint \n",
    "import matplotlib.pyplot as pd\n",
    "\n",
    "DEVELOPER_KEY = \"YOUR_DEVELOPER_KEY_HERE\"\n",
    "YOUTUBE_API_SERVICE_NAME = \"youtube\"\n",
    "YOUTUBE_API_VERSION = \"v3\"\n",
    "\n",
    "def youtube_search(q, max_results=50,order=\"relevance\", token=None, location=None, location_radius=None):\n",
    "\n",
    "    youtube = build(YOUTUBE_API_SERVICE_NAME, YOUTUBE_API_VERSION,developerKey=DEVELOPER_KEY)\n",
    "\n",
    "    search_response = youtube.search().list(\n",
    "    q=q,\n",
    "    type=\"video\",\n",
    "    pageToken=token,\n",
    "    order = order,\n",
    "    part=\"id,snippet\", # Part signifies the different types of data you want \n",
    "    maxResults=max_results,\n",
    "    location=location,\n",
    "    locationRadius=location_radius).execute()\n",
    "\n",
    "    title = []\n",
    "    channelId = []\n",
    "    channelTitle = []\n",
    "    categoryId = []\n",
    "    videoId = []\n",
    "    viewCount = []\n",
    "    likeCount = []\n",
    "    dislikeCount = []\n",
    "    commentCount = []\n",
    "    favoriteCount = []\n",
    "    category = []\n",
    "    tags = []\n",
    "    videos = []\n",
    "    \n",
    "    for search_result in search_response.get(\"items\", []):\n",
    "        if search_result[\"id\"][\"kind\"] == \"youtube#video\":\n",
    "\n",
    "            title.append(search_result['snippet']['title']) \n",
    "\n",
    "            videoId.append(search_result['id']['videoId'])\n",
    "\n",
    "            response = youtube.videos().list(\n",
    "                part='statistics, snippet',\n",
    "                id=search_result['id']['videoId']).execute()\n",
    "\n",
    "            channelId.append(response['items'][0]['snippet']['channelId'])\n",
    "            channelTitle.append(response['items'][0]['snippet']['channelTitle'])\n",
    "            categoryId.append(response['items'][0]['snippet']['categoryId'])\n",
    "            favoriteCount.append(response['items'][0]['statistics']['favoriteCount'])\n",
    "            viewCount.append(response['items'][0]['statistics']['viewCount'])\n",
    "            likeCount.append(response['items'][0]['statistics']['likeCount'])\n",
    "            dislikeCount.append(response['items'][0]['statistics']['dislikeCount'])\n",
    " \n",
    "        if 'commentCount' in response['items'][0]['statistics'].keys():\n",
    "            commentCount.append(response['items'][0]['statistics']['commentCount'])\n",
    "        else:\n",
    "            commentCount.append([])  \n",
    "        if 'tags' in response['items'][0]['snippet'].keys():\n",
    "            tags.append(response['items'][0]['snippet']['tags'])\n",
    "        else:\n",
    "            tags.append([])\n",
    "\n",
    "    youtube_dict = {'tags':tags,'channelId': channelId,'channelTitle': channelTitle,'categoryId':categoryId,'title':title,'videoId':videoId,'viewCount':viewCount,'likeCount':likeCount,'dislikeCount':dislikeCount,'commentCount':commentCount,'favoriteCount':favoriteCount}\n",
    "\n",
    "    return youtube_dict"
   ]
  }
 ],
 "metadata": {
  "kernelspec": {
   "display_name": "Python 3",
   "language": "python",
   "name": "python3"
  },
  "language_info": {
   "codemirror_mode": {
    "name": "ipython",
    "version": 3
   },
   "file_extension": ".py",
   "mimetype": "text/x-python",
   "name": "python",
   "nbconvert_exporter": "python",
   "pygments_lexer": "ipython3",
   "version": "3.6.5"
  }
 },
 "nbformat": 4,
 "nbformat_minor": 2
}
