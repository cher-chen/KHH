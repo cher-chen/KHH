{
 "cells": [
  {
   "cell_type": "code",
   "execution_count": 1,
   "metadata": {},
   "outputs": [
    {
     "name": "stdout",
     "output_type": "stream",
     "text": [
      "(46918, 24)\n"
     ]
    }
   ],
   "source": [
    "import pandas as pd\n",
    "\n",
    "kanban_df = pd.read_excel('data/2017kanban.xlsx')\n",
    "print(kanban_df.shape)"
   ]
  },
  {
   "cell_type": "markdown",
   "metadata": {},
   "source": [
    "## Return the standard assigned tug"
   ]
  },
  {
   "cell_type": "code",
   "execution_count": 2,
   "metadata": {},
   "outputs": [],
   "source": [
    "###Index(['船舶編號', '航次', '航行狀態(I進港O出港T移泊)', '引水申請時間', '引水人出發時間', '英文船名', '中文船名',\n",
    "###       '港口(1/2)', '移泊地', '靠泊地', '引水人姓名1', '引水人姓名2', '拖船編號1', '拖船編號2', '拖船編號3',\n",
    "###       '實際靠妥時間', '離開泊地時間', '港代理簡稱', '引水人上船時間', '引水人離船時間', '總噸位', '前吃水', '後吃水',\n",
    "###       '靠泊狀況(L左靠，R右靠，0不指定)'],\n",
    "###      dtype='object')\n",
    "###\n",
    "def tug_to_hp(no):\n",
    "    ##缺568拖船資訊\n",
    "    tuginfo = {143: 1800,\n",
    "               145: 1800, \n",
    "               151: 2400,\n",
    "               152: 2400,\n",
    "               153: 2400,\n",
    "               155: 2400,\n",
    "               112: 2400,\n",
    "               241: 2400,\n",
    "               245: 2400,\n",
    "               321: 3200,\n",
    "               322: 3200,\n",
    "               101: 3200,\n",
    "               302: 3200,\n",
    "               104: 3200,\n",
    "               106: 3200,\n",
    "               108: 3200,\n",
    "               109: 3200,\n",
    "               303: 3200,\n",
    "               306: 3200,\n",
    "               308: 3200,\n",
    "               301: 3200,\n",
    "               161: 4000,\n",
    "               162: 4000,\n",
    "               163: 4000,\n",
    "               165: 4000,\n",
    "               401: 4000,\n",
    "               451: 4000,\n",
    "               171: 5200,\n",
    "               172: 5200,\n",
    "               181: 5200,\n",
    "               182: 5200}\n",
    "    \n",
    "    for k in tuginfo:\n",
    "        if no == k:\n",
    "            return tuginfo[k]     \n",
    "    ### return 0 means matching fail\n",
    "    return 0\n",
    "\n",
    "def mismatch(tug,w):\n",
    "    tug_len  = len(tug)\n",
    "    \n",
    "    ## It means the mismatch\n",
    "    if tug_len == 0:\n",
    "        return True\n",
    "        \n",
    "    elif w < 5000:\n",
    "        if tug_len != 1:\n",
    "            return True\n",
    "        if tug[0] != 1800:\n",
    "            return True\n",
    "    \n",
    "    elif w < 10000:\n",
    "        if tug_len > 2:\n",
    "            return True\n",
    "        elif tug_len == 1:\n",
    "            if tug[0] != 2400:\n",
    "                return True\n",
    "        elif tug_len == 2:\n",
    "            if tug[0] != 1800 or tug[1] != 1800:\n",
    "                return True\n",
    "        \n",
    "    elif w < 15000:\n",
    "        if tug_len != 2:\n",
    "            return True\n",
    "        elif tug[0] != 1800 or tug[1] != 2400:\n",
    "            return True\n",
    "        \n",
    "    elif w  < 30000:\n",
    "        if tug_len != 2:\n",
    "            return True\n",
    "        if tug[0] != 2400 or tug[1] != 3200:\n",
    "            return True\n",
    "        \n",
    "    elif w < 45000:\n",
    "        if tug_len == 1:\n",
    "            return True\n",
    "        elif tug_len is 2:\n",
    "            if tug[0] != 3200 or tug[1] != 3200:\n",
    "                return True\n",
    "        elif tug_len is 3:\n",
    "            if tug[0] != 2400 or tug[1] != 2400 or tug[2] != 2400:\n",
    "                return True\n",
    "            \n",
    "    elif w < 60000:\n",
    "        if tug_len <= 1:\n",
    "            return True\n",
    "        elif tug[0] < 3200:\n",
    "            return True\n",
    "        \n",
    "    elif w < 100000:\n",
    "        if tug_len < 3:\n",
    "            return True\n",
    "        elif tug[0] < 4000:\n",
    "            return True\n",
    "    else:\n",
    "        if tug_len < 1:\n",
    "            return True\n",
    "        elif tug[0] != 5200:\n",
    "            return True\n",
    " \n",
    "    return False"
   ]
  },
  {
   "cell_type": "code",
   "execution_count": 14,
   "metadata": {},
   "outputs": [],
   "source": [
    "def base(s,b):\n",
    "    if s == b:\n",
    "        return 0\n",
    "    elif s > b:\n",
    "        return 1\n",
    "    else:\n",
    "        return -1\n",
    "\n",
    "def count_mismatch(tug,w):\n",
    "    tug_len  = len(tug)\n",
    "    \n",
    "    ## It means the mismatch\n",
    "    s = sum(tug)\n",
    "    \n",
    "    if w < 5000:\n",
    "        return base(s,1800)\n",
    "    \n",
    "    elif w < 10000:\n",
    "        if tug_len >= 2:\n",
    "            return base(s,3600)\n",
    "                \n",
    "        elif tug_len == 1:\n",
    "            return base(s,2400)\n",
    "        \n",
    "    elif w < 15000:\n",
    "        return base(s,4200)\n",
    "        \n",
    "    elif w  < 30000:\n",
    "        return base(s,5600)\n",
    "        \n",
    "    elif w < 45000:\n",
    "        if tug_len == 3 :\n",
    "            return base(s,7200)\n",
    "        \n",
    "        elif tug_len <= 2:\n",
    "            return base(s,6400)\n",
    "            \n",
    "    elif w < 60000:\n",
    "        if tug_len <= 1:\n",
    "            return base(s,4000)\n",
    "        \n",
    "        else:\n",
    "            return base(s,6400)\n",
    "        \n",
    "    elif w < 100000:\n",
    "        return base(s,12000)\n",
    "    \n",
    "    else:\n",
    "        return base(s,10400)\n",
    " \n",
    "    return False\n",
    "    "
   ]
  },
  {
   "cell_type": "code",
   "execution_count": 9,
   "metadata": {},
   "outputs": [],
   "source": [
    "def tug_type(tug_no):\n",
    "    hp = tug_to_hp(int(tug_no))\n",
    "    return int(hp)\n"
   ]
  },
  {
   "cell_type": "markdown",
   "metadata": {},
   "source": [
    "## The dictionary for the tug_no "
   ]
  },
  {
   "cell_type": "code",
   "execution_count": 19,
   "metadata": {
    "slideshow": {
     "slide_type": "-"
    }
   },
   "outputs": [
    {
     "name": "stdout",
     "output_type": "stream",
     "text": [
      "0.37855448621827203 0.2016957932331852 0.41974972054854276\n"
     ]
    }
   ],
   "source": [
    "mis = []\n",
    "for i in range(int(kanban_df.shape[0])):\n",
    "    w = int(kanban_df.總噸位[i])\n",
    "    tug = []\n",
    "    tug.append(kanban_df.拖船編號1[i])\n",
    "    tug.append(kanban_df.拖船編號2[i]) \n",
    "    tug.append(kanban_df.拖船編號3[i])\n",
    "    tug = pd.Series(tug)\n",
    "    tug = tug.dropna()\n",
    "    tug = pd.Series.tolist(tug)\n",
    "\n",
    "    tug_len = len(tug)\n",
    "    #standard = tug_sd(tug_len,w)\n",
    "    tmp = tug\n",
    "    tug = list(map(lambda x: tug_type(x), tug))\n",
    "    tug = sorted(tug)\n",
    "\n",
    "    ## 568 tug_no doesn't exist then the data will be skipped\n",
    "    if tug.count(0) is not 0 or len(tug) == 0:\n",
    "        continue\n",
    "        \n",
    "    m = count_mismatch(tug,w)\n",
    "    mis.append(m)\n",
    "    \n",
    "\n",
    "##小拖        \n",
    "a = (mis.count(-1)/len(mis))\n",
    "\n",
    "##標準\n",
    "b = (mis.count(0)/len(mis))\n",
    "##大拖\n",
    "c = (mis.count(1)/len(mis))\n",
    "\n",
    "print(a,b,c)"
   ]
  },
  {
   "cell_type": "markdown",
   "metadata": {},
   "source": [
    "## Draw the histogram of the distribution above"
   ]
  },
  {
   "cell_type": "code",
   "execution_count": 43,
   "metadata": {},
   "outputs": [
    {
     "data": {
      "text/plain": [
       "<BarContainer object of 3 artists>"
      ]
     },
     "execution_count": 43,
     "metadata": {},
     "output_type": "execute_result"
    },
    {
     "data": {
      "image/png": "[encoded data removed]",
      "text/plain": [
       "<Figure size 432x288 with 1 Axes>"
      ]
     },
     "metadata": {
      "needs_background": "light"
     },
     "output_type": "display_data"
    }
   ],
   "source": [
    "import numpy as np \n",
    "from matplotlib import pyplot as plt \n",
    "\n",
    "plt.bar(['smaller','standard','larger'], [a,b,c])"
   ]
  },
  {
   "cell_type": "code",
   "execution_count": 143,
   "metadata": {},
   "outputs": [
    {
     "data": {
      "text/plain": [
       "36679"
      ]
     },
     "execution_count": 143,
     "metadata": {},
     "output_type": "execute_result"
    }
   ],
   "source": [
    "len(mis)"
   ]
  },
  {
   "cell_type": "code",
   "execution_count": 44,
   "metadata": {},
   "outputs": [
    {
     "name": "stdout",
     "output_type": "stream",
     "text": [
      "Index(['船舶編號', '航次', '航行狀態(I進港O出港T移泊)', '引水申請時間', '引水人出發時間', '英文船名', '中文船名',\n",
      "       '港口(1/2)', '移泊地', '靠泊地', '引水人姓名1', '引水人姓名2', '拖船編號1', '拖船編號2', '拖船編號3',\n",
      "       '實際靠妥時間', '離開泊地時間', '港代理簡稱', '引水人上船時間', '引水人離船時間', '總噸位', '前吃水', '後吃水',\n",
      "       '靠泊狀況(L左靠，R右靠，0不指定)'],\n",
      "      dtype='object')\n"
     ]
    }
   ],
   "source": [
    "print(kanban_df.columns)"
   ]
  }
 ],
 "metadata": {
  "kernelspec": {
   "display_name": "Python 3",
   "language": "python",
   "name": "python3"
  },
  "language_info": {
   "codemirror_mode": {
    "name": "ipython",
    "version": 3
   },
   "file_extension": ".py",
   "mimetype": "text/x-python",
   "name": "python",
   "nbconvert_exporter": "python",
   "pygments_lexer": "ipython3",
   "version": "3.6.5"
  }
 },
 "nbformat": 4,
 "nbformat_minor": 2
}
