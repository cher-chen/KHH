{
 "cells": [
  {
   "cell_type": "code",
   "execution_count": 5,
   "metadata": {},
   "outputs": [],
   "source": [
    "import matplotlib.pyplot as plt\n",
    "import numpy as np\n",
    "from sklearn.linear_model import LinearRegression"
   ]
  },
  {
   "cell_type": "code",
   "execution_count": 6,
   "metadata": {},
   "outputs": [],
   "source": [
    "TUG_SPEED = 8   # nm/hr\n",
    "OIL_PRICE = 24 # $/l\n",
    "\n",
    "# all possible hp\n",
    "hp = [1800, 2400, 3200, 3300, 3400, 3500, 3600, 4000, 4200, 4400, 4500, 5200, 6400]\n",
    "\n",
    "# convert hp to consuming rate\n",
    "hp_x = np.array([2400/1.015, 2400, 2400, 3200, 3200, 4400/1.015, 4400/1.015, 4400, 4400, 5200, 5200])\n",
    "consume_rate = np.array([0.160479, 0.186670, 0.188414, 0.195119, 0.193107, 0.203318, 0.203590, 0.198793, 0.198672, 0.198324, 0.217688])\n",
    "\n",
    "lm = LinearRegression()\n",
    "lm.fit(np.reshape(hp_x, (len(hp_x), 1)), np.reshape(consume_rate, (len(consume_rate), 1)))\n",
    "\n",
    "# count oil price\n",
    "hp_price = {}\n",
    "for h in hp:\n",
    "    to_be_predicted = np.array([h])\n",
    "    predicted_rate = lm.predict(np.reshape(to_be_predicted, (len(to_be_predicted), 1)))\n",
    "    # price formula:  Pi     *   (v/MAX_V)**3    *   s       unit: kg/hr -> kg/nm -> kg/km -> l/km -> $/km   \n",
    "    hp_price[h] = h * 0.7457 * (TUG_SPEED/12)**3 * predicted_rate[0][0] / TUG_SPEED / 1.852 / 0.84 * OIL_PRICE"
   ]
  },
  {
   "cell_type": "code",
   "execution_count": 7,
   "metadata": {},
   "outputs": [
    {
     "name": "stdout",
     "output_type": "stream",
     "text": [
      "1800 134.1075498270909\n",
      "2400 185.0696699493183\n",
      "3200 257.887743955886\n",
      "3300 267.3812284262817\n",
      "3400 276.9616518343608\n",
      "3500 286.62901418012325\n",
      "3600 296.3833154635688\n",
      "4000 336.26990997418443\n",
      "4200 356.734840855592\n",
      "4400 377.5475274877326\n",
      "4500 388.0842792103279\n",
      "5200 464.27583152362723\n",
      "6400 604.8009600994644\n"
     ]
    }
   ],
   "source": [
    "for h in hp:\n",
    "    print(h, hp_price[h])"
   ]
  },
  {
   "cell_type": "code",
   "execution_count": null,
   "metadata": {},
   "outputs": [],
   "source": []
  }
 ],
 "metadata": {
  "kernelspec": {
   "display_name": "Python 3",
   "language": "python",
   "name": "python3"
  },
  "language_info": {
   "codemirror_mode": {
    "name": "ipython",
    "version": 3
   },
   "file_extension": ".py",
   "mimetype": "text/x-python",
   "name": "python",
   "nbconvert_exporter": "python",
   "pygments_lexer": "ipython3",
   "version": "3.7.2"
  }
 },
 "nbformat": 4,
 "nbformat_minor": 2
}
